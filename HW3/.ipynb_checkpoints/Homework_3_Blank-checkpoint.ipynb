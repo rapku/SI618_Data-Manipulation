{
 "cells": [
  {
   "cell_type": "markdown",
   "metadata": {},
   "source": [
    "# SI 618 WN 2018 - Homework 3: Pandas Data Analysis"
   ]
  },
  {
   "cell_type": "markdown",
   "metadata": {},
   "source": [
    "## Objectives\n",
    "1. To build on your previous work with merging data sets\n",
    "2. To review stacking/unstacking\n",
    "3. To practice working with Seaborn\n",
    "4. To start working with univariate statistics"
   ]
  },
  {
   "cell_type": "markdown",
   "metadata": {},
   "source": [
    "## Please fill in...\n",
    "### * Your name:\n",
    "### * People you worked with:  [If you didn't work with anyone, write \"I worked by myself\" here]"
   ]
  },
  {
   "cell_type": "markdown",
   "metadata": {},
   "source": [
    "We're going to return to the synthetic student performace data from Homework 1, but rather than just pretending that we're merging it with our survey data, we're going to tackle the entire data set.  We're going to seek answers to some questions about the data.  It's a good idea to quickly scan down the questions for this Homework assignment (below, in <font color=\"red\">red</font>) so you can get a sense of what we're going to be doing."
   ]
  },
  {
   "cell_type": "markdown",
   "metadata": {},
   "source": [
    "First, load up everything we need"
   ]
  },
  {
   "cell_type": "code",
   "execution_count": 1,
   "metadata": {},
   "outputs": [
    {
     "name": "stderr",
     "output_type": "stream",
     "text": [
      "/anaconda3/lib/python3.6/site-packages/statsmodels/compat/pandas.py:56: FutureWarning: The pandas.core.datetools module is deprecated and will be removed in a future version. Please use the pandas.tseries module instead.\n",
      "  from pandas.core import datetools\n"
     ]
    }
   ],
   "source": [
    "import numpy as np\n",
    "import pandas as pd\n",
    "import matplotlib.pyplot as plt\n",
    "%matplotlib inline\n",
    "import statsmodels.formula.api as smf\n",
    "import statsmodels.api as sm\n",
    "import seaborn as sns\n",
    "from scipy import stats\n",
    "sns.set(style='ticks', color_codes=True)"
   ]
  },
  {
   "cell_type": "markdown",
   "metadata": {},
   "source": [
    "And make things easier to see"
   ]
  },
  {
   "cell_type": "code",
   "execution_count": 2,
   "metadata": {},
   "outputs": [
    {
     "data": {
      "text/html": [
       "<style>body {\n",
       "    margin: 0;\n",
       "    font-family: Helvetica;\n",
       "}\n",
       "table.dataframe {\n",
       "    border-collapse: collapse;\n",
       "    border: none;\n",
       "}\n",
       "table.dataframe tr {\n",
       "    border: none;\n",
       "}\n",
       "table.dataframe td, table.dataframe th {\n",
       "    margin: 0;\n",
       "    border: 1px solid white;\n",
       "    padding-left: 0.25em;\n",
       "    padding-right: 0.25em;\n",
       "}\n",
       "table.dataframe th:not(:empty) {\n",
       "    background-color: #fec;\n",
       "    text-align: left;\n",
       "    font-weight: normal;\n",
       "}\n",
       "table.dataframe tr:nth-child(2) th:empty {\n",
       "    border-left: none;\n",
       "    border-right: 1px dashed #888;\n",
       "}\n",
       "table.dataframe td {\n",
       "    border: 2px solid #ccf;\n",
       "    background-color: #f4f4ff;\n",
       "}\n",
       "h3 {\n",
       "    color: white;\n",
       "    background-color: black;\n",
       "    padding: 0.5em;\n",
       "}\n",
       "</style>"
      ],
      "text/plain": [
       "<IPython.core.display.HTML object>"
      ]
     },
     "execution_count": 2,
     "metadata": {},
     "output_type": "execute_result"
    }
   ],
   "source": [
    "from IPython.core.display import HTML\n",
    "css = open('style-table.css').read() + open('style-notebook.css').read()\n",
    "HTML('<style>{}</style>'.format(css))"
   ]
  },
  {
   "cell_type": "markdown",
   "metadata": {},
   "source": [
    "The descriptions of the data can be found on the [PLA Wiki](https://github.com/bkoester/PLA/wiki) under the Data heading.  It is replicated here for your convenience.\n",
    "\n",
    "\n",
    "## Data\n",
    "These functions all run on synthetic data provided with this project, but may in principle be run on similarly-formatted data from local sources. The data come in two tables: a student-course table (`student.course.csv`) and student-record table (`student.record.csv`).\n",
    "\n",
    "\n",
    "### Student Record Table\n",
    "\n",
    "This includes one-time information about a student: major, gender, etc. This is one line per student.  \n",
    "\n",
    "| Field | Description |\n",
    "| --- | --- |\n",
    "| ANONID| Anonymous ID of the student, used to merge with columns of the student course table.| \n",
    "| ADMIT_TERM| Term of admission. Terms are have be re-numbered to preserve anonymity. The same consistent numbering convention is used for all “TERM” fields. These TERMS go back to TERM=53.|  \n",
    "| HSGPA| HSGPA as recomputed by admissions. Note that this contains ‘0’ as well, whose meaning is unclear.|   \n",
    "| LAST_ACT_MATH_SCORE| ACT math score.|   \n",
    "| LAST_ACT_ENGL_SCORE| ACT English score|   \n",
    "| LAST_ACT_READ_SCORE| ACT reading score| \n",
    "| LAST_ACT_SCIRE_SCORE| ACT science score| \n",
    "| LAST_ACT_COMP_SCORE| ACT composite score| \n",
    "| LAST_SATI_VERB_SCORE| SAT verbal score|   \n",
    "| LAST_SATI_MATH_SCORE| SAT math score| \n",
    "| LAST_SATI_TOTAL_SCORE| SAT total score| \n",
    "| MAJOR1_DESCR| Full name of first undergraduate major degree.|   \n",
    "| MAJOR2_DESCR| Full name of second undergraduate major degree.|   \n",
    "| MAJOR3_DESCR| Full name of third undergraduate major degree.|   \n",
    "\n",
    "*NOTE: THE ORDER OF MAJORS IN THESE IS RANDOM\n",
    "\n",
    "| Field | Description |\n",
    "| --- | --- |\n",
    "| MAJOR1_TERM| The term that MAJOR1 was received, otherwise NA. Degree data become incomplete before TERM 80. Note that degree information goes back to at least TERM 10.| \n",
    "| MAJOR2_TERM| The term that MAJOR2 was received, otherwise NA.|   \n",
    "| MAJOR3_TERM| The term that MAJOR3 was received, otherwise NA.|  \n",
    "| MAJOR1_DEPT| The department that awarded MAJOR1. This collapses some rare majors and may be preferable for anonymity.|   \n",
    "| MAJOR2_DEPT| The department that awarded MAJOR2. This collapses some rare majors and may be preferable for anonymity.| \n",
    "| MAJOR3_DEPT| The department that awarded MAJOR3. This collapses some rare majors and may be preferable for anonymity.|  \n",
    "| STDNT_GROUP1| Students are allowed up to two groups of 7 available groups denoted A-G.|   \n",
    "| STDNT_GROUP2| : “”|   \n",
    "\n",
    "### Student Course Table\n",
    "Courses taken by a student and grade received are recorded here. This may be multiple lines per student.\n",
    "\n",
    "| Field | Description |\n",
    "| --- | --- |\n",
    "| ANONID| Anonymous ID of the student, used to merge with columns of the student record table.|   \n",
    "| SUBJECT|  Subject area of course.|   \n",
    "|CATALOG_NBR|  Catalog number of the course.|   \n",
    "|GRD_PTS_PER_UNIT|  Discrete numerical field ranging from 0-4, indicating the grade received.|   \n",
    "|GPAO|  Grade point in all other classes over the student's career, up to and including the term the course was taken.| \n",
    "|CUM_GPA|  Actual CUM_GPA as of the term the course was taken.|   \n",
    "|DIV|  The division (P=professional, H=Humanities,SS=Social Sciences, S=Science,E=Engineering,O=Other) of the SUBJECT.|   \n",
    "|ANON_INSTR_ID|  Anonymized instructor ID. I haven’t used this field much yet.|   \n",
    "|TERM|  Term the course was taken. This reaches TERM=60, which is also the minimum TERM for the ADMIT_TERM field in the student-record table.|   \n"
   ]
  },
  {
   "cell_type": "markdown",
   "metadata": {},
   "source": [
    "Now load our data files."
   ]
  },
  {
   "cell_type": "code",
   "execution_count": 3,
   "metadata": {
    "collapsed": true,
    "scrolled": true
   },
   "outputs": [],
   "source": [
    "studentRecord = pd.read_csv('student.record.csv')\n",
    "studentCourse = pd.read_csv('student.course.csv')\n",
    "terms = pd.read_csv('term.table.txt',sep='\\t') "
   ]
  },
  {
   "cell_type": "markdown",
   "metadata": {},
   "source": [
    "## <font color=\"magenta\">Q1: Join the two tables together (based on ANONID) so that every record from the Student Course has associated with it the information about the student from the Student Record Table."
   ]
  },
  {
   "cell_type": "code",
   "execution_count": 4,
   "metadata": {
    "collapsed": true
   },
   "outputs": [],
   "source": [
    "# Insert here code to join the two tables\n",
    "# Hint: use pd.merge(DataFrame1, DataFrame2, how)\n",
    "# you can use how='left' or 'right' or 'outer' or 'inner' to specify which type of join you want to do"
   ]
  },
  {
   "cell_type": "markdown",
   "metadata": {},
   "source": [
    "## <font color=\"magenta\">Q2: Filter the joined tables so that you discard all rows in which the GRD_PTS_PER_UNIT is greater than zero and less than or equal to 4.3."
   ]
  },
  {
   "cell_type": "code",
   "execution_count": 5,
   "metadata": {},
   "outputs": [],
   "source": [
    "# Insert here code to filter data"
   ]
  },
  {
   "cell_type": "markdown",
   "metadata": {},
   "source": [
    "## <font color=\"magenta\">Q3: Create a new column that combines the SUBJECT column and the CATALOG_NBR column to create a COURSE column.  So if SUBJECT is \"STATS\" and CATALOG_NBR is 250, the result would be \"STATS250\"."
   ]
  },
  {
   "cell_type": "code",
   "execution_count": 6,
   "metadata": {},
   "outputs": [],
   "source": [
    "# insert here code to create the \"COURSE\" column\n",
    "# https://stackoverflow.com/questions/19377969/combine-two-columns-of-text-in-dataframe-in-pandas-python\n"
   ]
  },
  {
   "cell_type": "markdown",
   "metadata": {},
   "source": [
    "## <font color=\"magenta\">Q4: Pivot your data so you wind up with the mean GRD_PTS_PER_UNIT for males and females in each course."
   ]
  },
  {
   "cell_type": "code",
   "execution_count": 7,
   "metadata": {},
   "outputs": [
    {
     "ename": "NameError",
     "evalue": "name 'joined_filtered' is not defined",
     "output_type": "error",
     "traceback": [
      "\u001b[0;31m---------------------------------------------------------------------------\u001b[0m",
      "\u001b[0;31mNameError\u001b[0m                                 Traceback (most recent call last)",
      "\u001b[0;32m<ipython-input-7-e3e8bbc3c895>\u001b[0m in \u001b[0;36m<module>\u001b[0;34m()\u001b[0m\n\u001b[0;32m----> 1\u001b[0;31m \u001b[0mpivoted_data\u001b[0m \u001b[0;34m=\u001b[0m \u001b[0mjoined_filtered\u001b[0m\u001b[0;34m.\u001b[0m\u001b[0mpivot_table\u001b[0m\u001b[0;34m(\u001b[0m\u001b[0;34m)\u001b[0m \u001b[0;31m# change this line of code to pivot your data\u001b[0m\u001b[0;34m\u001b[0m\u001b[0m\n\u001b[0m\u001b[1;32m      2\u001b[0m \u001b[0mpivoted_data\u001b[0m\u001b[0;34m.\u001b[0m\u001b[0mhead\u001b[0m\u001b[0;34m(\u001b[0m\u001b[0;34m)\u001b[0m\u001b[0;34m\u001b[0m\u001b[0m\n",
      "\u001b[0;31mNameError\u001b[0m: name 'joined_filtered' is not defined"
     ]
    }
   ],
   "source": [
    "pivoted_data = joined_filtered.pivot_table() # change this line of code to pivot your data\n",
    "pivoted_data.head()"
   ]
  },
  {
   "cell_type": "markdown",
   "metadata": {},
   "source": [
    "## <font color=\"magenta\">Q5: Use that pivoted data to calculate the difference between males and females for the mean GRD_PTS_PER_UNIT."
   ]
  },
  {
   "cell_type": "markdown",
   "metadata": {},
   "source": [
    "The result should look like the following table:"
   ]
  },
  {
   "cell_type": "markdown",
   "metadata": {},
   "source": [
    "| SEX | F | M | absolute difference of GRD_PTS_PER_UNIT |\n",
    "| --- | --- | --- | --- |\n",
    "| COURSE |  |  |  |\n",
    "| ACC271 | 2.756442 | 2.933979 | 0.177537 |\n",
    "| ACC272 |\t2.902270 |\t2.987954 |\t0.085684 |"
   ]
  },
  {
   "cell_type": "code",
   "execution_count": null,
   "metadata": {
    "collapsed": true
   },
   "outputs": [],
   "source": [
    "# Insert here code to calculate the difference between the M and F means"
   ]
  },
  {
   "cell_type": "code",
   "execution_count": null,
   "metadata": {
    "collapsed": true
   },
   "outputs": [],
   "source": [
    "# And calculate the absolute differences here"
   ]
  },
  {
   "cell_type": "code",
   "execution_count": null,
   "metadata": {
    "scrolled": false
   },
   "outputs": [],
   "source": [
    "# Then show the values that we want\n",
    "pivoted_data.head()"
   ]
  },
  {
   "cell_type": "markdown",
   "metadata": {},
   "source": [
    "## <font color=\"magenta\">Q6: In what proportion of courses do women outperform men?"
   ]
  },
  {
   "cell_type": "code",
   "execution_count": null,
   "metadata": {},
   "outputs": [],
   "source": [
    "# Show your code here\n",
    "# Hint: use your pivoted_data from Q4 & Q5"
   ]
  },
  {
   "cell_type": "markdown",
   "metadata": {},
   "source": [
    "##  <font color=\"magenta\">Q7: List the 5 courses that represnt the largest (absolute) difference in mean between males and females along with the value of the difference."
   ]
  },
  {
   "cell_type": "code",
   "execution_count": null,
   "metadata": {
    "scrolled": false
   },
   "outputs": [],
   "source": [
    "# Show your code here\n",
    "# Hint: use your pivoted_data from Q4 & Q5"
   ]
  },
  {
   "cell_type": "markdown",
   "metadata": {},
   "source": [
    "## <font color=\"magenta\">Q8: Use sns.distplot(...) to show the distributions of GRD_PTS_PER_UNIT of males and females for each of those 5 courses.</font>\n",
    "You should have a total of 5 plots, each with two distributions (one for males and one fof females). The plot should look similar to this:\n",
    "<img src=\"PSYCH350.png\">"
   ]
  },
  {
   "cell_type": "code",
   "execution_count": null,
   "metadata": {},
   "outputs": [],
   "source": [
    "# Insert your code here -- you might find it helpful to define a function that you call with the \n",
    "# different courses\n",
    "def plot_course(course):"
   ]
  },
  {
   "cell_type": "code",
   "execution_count": null,
   "metadata": {
    "collapsed": true
   },
   "outputs": [],
   "source": [
    "plot_course('PSYCH350')"
   ]
  },
  {
   "cell_type": "code",
   "execution_count": null,
   "metadata": {},
   "outputs": [],
   "source": [
    "plot_course('ECON101')"
   ]
  },
  {
   "cell_type": "code",
   "execution_count": null,
   "metadata": {
    "collapsed": true
   },
   "outputs": [],
   "source": [
    "plot_course('PHYSICS140')"
   ]
  },
  {
   "cell_type": "code",
   "execution_count": null,
   "metadata": {},
   "outputs": [],
   "source": [
    "plot_course('SPANISH101')"
   ]
  },
  {
   "cell_type": "code",
   "execution_count": null,
   "metadata": {},
   "outputs": [],
   "source": [
    "plot_course('BUDDHST230')"
   ]
  },
  {
   "cell_type": "markdown",
   "metadata": {},
   "source": [
    "## <font color=\"magenta\">Q9: Describe, in your own words, how the distributions histograms you generated do or do not show the differences in the means you reported in Q2"
   ]
  },
  {
   "cell_type": "markdown",
   "metadata": {},
   "source": [
    "<font color=\"red\">Put your description here.</font>"
   ]
  },
  {
   "cell_type": "markdown",
   "metadata": {},
   "source": [
    "# Time to learn something new\n",
    "\n",
    "We learned about pivot, stack, unstack, and pivot_table earlier in the course.  What we didn't learn was how to \"unpivot\" data.  In pandas, you use the \"melt\" function to do that.  You will need to use melt() for the next step.\n",
    "\n",
    "The Student Record data set has three columns to represent the departments that correspond to the first three majors that each student has declared.  The order of those isn't important. Not all students have three majors, so some of those fields will be blank.\n",
    "\n",
    "We want to get a list of all the departments that each student is in, for every row in the joined table (i.e. the one you generated earlier that joins Student Course and Student Record). So if a student was in a major that belonged to the Psychology Department and another one that belonged to \"English Language & Literature Dept\", and that student had taken STATS250 and ECON101, there would be 4 rows for that student in the resulting table: one row that indicated the student was in the Psychology Department and had taken STATS250, a second one that indicated the student was in English and had taken STATS250, a third one that indicated they were in Psychology and had taken ECON101, and a fourth one indicating they were in English and had taken ECON 101.  That's what we mean by \"unpivoting\" (or, in our case, melt()ing).\n",
    "\n",
    "Here's what the syntax for the melt() is going to look like:\n",
    "\n",
    "```\n",
    "joined.melt(id_vars='ANONID',\n",
    "                     value_vars=['MAJOR1_DEPT','MAJOR2_DEPT','MAJOR3_DEPT'],\n",
    "                     value_name='DEPT',\n",
    "                     var_name='DEPT_NBR')\n",
    "```\n",
    "\n",
    "Copy that below, and assign it to ```melted```\n",
    "\n",
    "The following code assumes the joined DataFrame you generated above is called \"joined\""
   ]
  },
  {
   "cell_type": "code",
   "execution_count": null,
   "metadata": {},
   "outputs": [],
   "source": [
    "joined.head()"
   ]
  },
  {
   "cell_type": "code",
   "execution_count": null,
   "metadata": {
    "collapsed": true
   },
   "outputs": [],
   "source": [
    "melted = joined.melt(id_vars='ANONID',\n",
    "                     value_vars=['MAJOR1_DEPT','MAJOR2_DEPT','MAJOR3_DEPT'],\n",
    "                     value_name='DEPT',\n",
    "                     var_name='DEPT_NBR')"
   ]
  },
  {
   "cell_type": "markdown",
   "metadata": {},
   "source": [
    "Now take a look at melted"
   ]
  },
  {
   "cell_type": "code",
   "execution_count": null,
   "metadata": {},
   "outputs": [],
   "source": [
    "melted.head()"
   ]
  },
  {
   "cell_type": "markdown",
   "metadata": {},
   "source": [
    "We don't really care about the DEPT_NBR column, but it's not causing problems so we can just leave it there.\n",
    "\n",
    "Next, we want to drop the NaN values (using .dropna()), and then merge it with the \"joined\" dataframe you generated earlier.\n",
    "\n",
    "Finally, drop all duplicate rows (.drop_duplicates())."
   ]
  },
  {
   "cell_type": "code",
   "execution_count": null,
   "metadata": {
    "collapsed": true
   },
   "outputs": [],
   "source": [
    "melted = melted.dropna()\n",
    "\n",
    "joined_filtered = joined_filtered[(joined_filtered['COURSE'] == 'PSYCH360') | (joined_filtered['COURSE'] == 'STATS250')]\n",
    "\n",
    "joined_table = pd.merge(joined_filtered, melted, on='ANONID', how='inner')\n",
    "\n",
    "joined_table = joined_table.drop_duplicates()\n",
    "\n",
    "joined_table.drop_duplicates(inplace=True)"
   ]
  },
  {
   "cell_type": "markdown",
   "metadata": {},
   "source": [
    "## <font color=\"magenta\">Q10: Do students in majors from the Psychology Department do better in PSYCH360 than students who are not in Psychology Department majors?\n",
    "\n",
    "**Use the resulting table to create a plot to visually investigate the differences of students' GRD_PTS_PER_UNIT in PSYCH360, comparing the GRD_PTS_PER_UNIT for students in Psychology Department majors vs. those who were not in Psychology Department majors.  Based on your plots, answer the question.**"
   ]
  },
  {
   "cell_type": "code",
   "execution_count": null,
   "metadata": {
    "collapsed": true
   },
   "outputs": [],
   "source": [
    "# Insert your code here\n",
    "# Hint: you may want to try reducing the table size first by filtering and selecting fields;\n",
    "# Otherwise, it may take awhile to run your code"
   ]
  },
  {
   "cell_type": "markdown",
   "metadata": {},
   "source": [
    "Finally, we are going to use the multiplePlots() function from our in-class lab to investigate the distribution of GPAO of students in STATS250 who are in majors from the Psychology Department, split by sex.\n",
    "\n",
    "You'll need to generate two grids (one for males and one for females), each containing four plots (a histogram of the distribution, a run sequence, a lag plot, and a Q-Q plot) for the GPAO variable.  Select only students who are in majors from the Psychology Department who are taking STATS250."
   ]
  },
  {
   "cell_type": "markdown",
   "metadata": {},
   "source": [
    "## <font color=\"magenta\">Q11: Do the GPAO scores for males and females taking STATS250 who are in majors from the Psychology Department appear to be normally distributed? Explain why or why not."
   ]
  },
  {
   "cell_type": "code",
   "execution_count": null,
   "metadata": {
    "collapsed": true
   },
   "outputs": [],
   "source": [
    "# Copy the multiplePlots function here.\n",
    "def multiplePlots( series ):\n",
    "    \n",
    "    fig, axs = plt.subplots(2,2)\n",
    "    plt.tight_layout(pad=0.4, w_pad=4, h_pad=1.0)\n",
    "\n",
    "    # Histogram\n",
    "    sns.distplot(series, ax=axs[0,0])\n",
    "    \n",
    "    # Lag plot\n",
    "    lag = series.copy()\n",
    "    lag = np.array(lag[:-1])\n",
    "    current = series[1:]\n",
    "    ax = sns.regplot(current,lag,fit_reg=False, ax=axs[0,1])\n",
    "    ax.set_ylabel(\"y_i-1\")\n",
    "    ax.set_xlabel(\"y_i\")\n",
    "    \n",
    "    # QQ plot\n",
    "    qntls, xr = stats.probplot(series, fit=False)\n",
    "    sns.regplot(xr,qntls, ax=axs[1,0])\n",
    "    \n",
    "    # Run sequence\n",
    "    ax = sns.regplot(np.arange(len(series)),series, ax=axs[1,1])\n",
    "    ax.set_ylabel(\"val\")\n",
    "    ax.set_xlabel(\"i\")\n"
   ]
  },
  {
   "cell_type": "code",
   "execution_count": null,
   "metadata": {
    "scrolled": true
   },
   "outputs": [],
   "source": [
    "# Filter the data and call the multiplePlots function here."
   ]
  },
  {
   "cell_type": "markdown",
   "metadata": {},
   "source": [
    "## <font color=\"magenta\"> Q12: Create a pairplot of 'GRD_PTS_PER_UNIT', 'HSGPA', 'LAST_SATI_VERB_SCORE', and 'LAST_SATI_MATH_SCORE'. What is your conclusion from the result?"
   ]
  },
  {
   "cell_type": "code",
   "execution_count": null,
   "metadata": {},
   "outputs": [],
   "source": [
    "# Show your code here"
   ]
  },
  {
   "cell_type": "markdown",
   "metadata": {},
   "source": [
    "# <font color=\"magenta\">End of Homework 3</font>"
   ]
  }
 ],
 "metadata": {
  "kernelspec": {
   "display_name": "Python 3",
   "language": "python",
   "name": "python3"
  },
  "language_info": {
   "codemirror_mode": {
    "name": "ipython",
    "version": 3
   },
   "file_extension": ".py",
   "mimetype": "text/x-python",
   "name": "python",
   "nbconvert_exporter": "python",
   "pygments_lexer": "ipython3",
   "version": "3.6.3"
  }
 },
 "nbformat": 4,
 "nbformat_minor": 2
}
