{
 "cells": [
  {
   "cell_type": "markdown",
   "metadata": {},
   "source": [
    "# SI 618 WN 2018 - Homework 5: Using the Spark SQL to analyze Yelp Business Data"
   ]
  },
  {
   "cell_type": "markdown",
   "metadata": {},
   "source": [
    "## Objectives\n",
    "1. To gain familiarity with Spark SQL;\n",
    "2. To master filtering, aggregating, and sorting a Spark DataFrame;\n",
    "3. To learn joining multiple Spark DataFrames;\n",
    "3. To review visualizing Pandas DataFrame using Seaborn."
   ]
  },
  {
   "cell_type": "markdown",
   "metadata": {},
   "source": [
    "## Please fill in...\n",
    "### * Your name:\n",
    "### * People you worked with:  [If you didn't work with anyone, write \"I worked by myself\" here]"
   ]
  },
  {
   "cell_type": "markdown",
   "metadata": {},
   "source": [
    "## Submission Instructions:\n",
    "Please turn in this Jupyter notebook file (in both .ipynb and .html formats) via Canvas."
   ]
  },
  {
   "cell_type": "markdown",
   "metadata": {},
   "source": [
    "## Overview\n",
    "\n",
    "This project is designed to give you a basic familiarity with the Apache Spark SQL module."
   ]
  },
  {
   "cell_type": "code",
   "execution_count": 1,
   "metadata": {
    "collapsed": true
   },
   "outputs": [],
   "source": [
    "from pyspark.sql import SparkSession"
   ]
  },
  {
   "cell_type": "markdown",
   "metadata": {},
   "source": [
    "### Step 1a: Initialize a SparkSession"
   ]
  },
  {
   "cell_type": "code",
   "execution_count": 2,
   "metadata": {
    "collapsed": true
   },
   "outputs": [],
   "source": [
    "spark = SparkSession.builder.appName('hw5').getOrCreate()"
   ]
  },
  {
   "cell_type": "markdown",
   "metadata": {},
   "source": [
    "### Step 1b: Load the JSON file into Spark"
   ]
  },
  {
   "cell_type": "code",
   "execution_count": 3,
   "metadata": {
    "collapsed": true
   },
   "outputs": [],
   "source": [
    "df = spark.read.json(\"./yelp_academic_dataset_business.json\")"
   ]
  },
  {
   "cell_type": "markdown",
   "metadata": {},
   "source": [
    "### Step 1c: Print the schema and familiarize yourself with the structure of the dataset"
   ]
  },
  {
   "cell_type": "code",
   "execution_count": 4,
   "metadata": {},
   "outputs": [
    {
     "name": "stdout",
     "output_type": "stream",
     "text": [
      "root\n",
      " |-- attributes: struct (nullable = true)\n",
      " |    |-- Accepts Credit Cards: boolean (nullable = true)\n",
      " |    |-- Accepts Insurance: boolean (nullable = true)\n",
      " |    |-- Ages Allowed: string (nullable = true)\n",
      " |    |-- Alcohol: string (nullable = true)\n",
      " |    |-- Ambience: struct (nullable = true)\n",
      " |    |    |-- casual: boolean (nullable = true)\n",
      " |    |    |-- classy: boolean (nullable = true)\n",
      " |    |    |-- divey: boolean (nullable = true)\n",
      " |    |    |-- hipster: boolean (nullable = true)\n",
      " |    |    |-- intimate: boolean (nullable = true)\n",
      " |    |    |-- romantic: boolean (nullable = true)\n",
      " |    |    |-- touristy: boolean (nullable = true)\n",
      " |    |    |-- trendy: boolean (nullable = true)\n",
      " |    |    |-- upscale: boolean (nullable = true)\n",
      " |    |-- Attire: string (nullable = true)\n",
      " |    |-- BYOB: boolean (nullable = true)\n",
      " |    |-- BYOB/Corkage: string (nullable = true)\n",
      " |    |-- By Appointment Only: boolean (nullable = true)\n",
      " |    |-- Caters: boolean (nullable = true)\n",
      " |    |-- Coat Check: boolean (nullable = true)\n",
      " |    |-- Corkage: boolean (nullable = true)\n",
      " |    |-- Delivery: boolean (nullable = true)\n",
      " |    |-- Dietary Restrictions: struct (nullable = true)\n",
      " |    |    |-- dairy-free: boolean (nullable = true)\n",
      " |    |    |-- gluten-free: boolean (nullable = true)\n",
      " |    |    |-- halal: boolean (nullable = true)\n",
      " |    |    |-- kosher: boolean (nullable = true)\n",
      " |    |    |-- soy-free: boolean (nullable = true)\n",
      " |    |    |-- vegan: boolean (nullable = true)\n",
      " |    |    |-- vegetarian: boolean (nullable = true)\n",
      " |    |-- Dogs Allowed: boolean (nullable = true)\n",
      " |    |-- Drive-Thru: boolean (nullable = true)\n",
      " |    |-- Good For: struct (nullable = true)\n",
      " |    |    |-- breakfast: boolean (nullable = true)\n",
      " |    |    |-- brunch: boolean (nullable = true)\n",
      " |    |    |-- dessert: boolean (nullable = true)\n",
      " |    |    |-- dinner: boolean (nullable = true)\n",
      " |    |    |-- latenight: boolean (nullable = true)\n",
      " |    |    |-- lunch: boolean (nullable = true)\n",
      " |    |-- Good For Dancing: boolean (nullable = true)\n",
      " |    |-- Good For Groups: boolean (nullable = true)\n",
      " |    |-- Good for Kids: boolean (nullable = true)\n",
      " |    |-- Hair Types Specialized In: struct (nullable = true)\n",
      " |    |    |-- africanamerican: boolean (nullable = true)\n",
      " |    |    |-- asian: boolean (nullable = true)\n",
      " |    |    |-- coloring: boolean (nullable = true)\n",
      " |    |    |-- curly: boolean (nullable = true)\n",
      " |    |    |-- extensions: boolean (nullable = true)\n",
      " |    |    |-- kids: boolean (nullable = true)\n",
      " |    |    |-- perms: boolean (nullable = true)\n",
      " |    |    |-- straightperms: boolean (nullable = true)\n",
      " |    |-- Happy Hour: boolean (nullable = true)\n",
      " |    |-- Has TV: boolean (nullable = true)\n",
      " |    |-- Music: struct (nullable = true)\n",
      " |    |    |-- background_music: boolean (nullable = true)\n",
      " |    |    |-- dj: boolean (nullable = true)\n",
      " |    |    |-- jukebox: boolean (nullable = true)\n",
      " |    |    |-- karaoke: boolean (nullable = true)\n",
      " |    |    |-- live: boolean (nullable = true)\n",
      " |    |    |-- video: boolean (nullable = true)\n",
      " |    |-- Noise Level: string (nullable = true)\n",
      " |    |-- Open 24 Hours: boolean (nullable = true)\n",
      " |    |-- Order at Counter: boolean (nullable = true)\n",
      " |    |-- Outdoor Seating: boolean (nullable = true)\n",
      " |    |-- Parking: struct (nullable = true)\n",
      " |    |    |-- garage: boolean (nullable = true)\n",
      " |    |    |-- lot: boolean (nullable = true)\n",
      " |    |    |-- street: boolean (nullable = true)\n",
      " |    |    |-- valet: boolean (nullable = true)\n",
      " |    |    |-- validated: boolean (nullable = true)\n",
      " |    |-- Price Range: long (nullable = true)\n",
      " |    |-- Smoking: string (nullable = true)\n",
      " |    |-- Take-out: boolean (nullable = true)\n",
      " |    |-- Takes Reservations: boolean (nullable = true)\n",
      " |    |-- Waiter Service: boolean (nullable = true)\n",
      " |    |-- Wheelchair Accessible: boolean (nullable = true)\n",
      " |    |-- Wi-Fi: string (nullable = true)\n",
      " |-- business_id: string (nullable = true)\n",
      " |-- categories: array (nullable = true)\n",
      " |    |-- element: string (containsNull = true)\n",
      " |-- city: string (nullable = true)\n",
      " |-- full_address: string (nullable = true)\n",
      " |-- hours: struct (nullable = true)\n",
      " |    |-- Friday: struct (nullable = true)\n",
      " |    |    |-- close: string (nullable = true)\n",
      " |    |    |-- open: string (nullable = true)\n",
      " |    |-- Monday: struct (nullable = true)\n",
      " |    |    |-- close: string (nullable = true)\n",
      " |    |    |-- open: string (nullable = true)\n",
      " |    |-- Saturday: struct (nullable = true)\n",
      " |    |    |-- close: string (nullable = true)\n",
      " |    |    |-- open: string (nullable = true)\n",
      " |    |-- Sunday: struct (nullable = true)\n",
      " |    |    |-- close: string (nullable = true)\n",
      " |    |    |-- open: string (nullable = true)\n",
      " |    |-- Thursday: struct (nullable = true)\n",
      " |    |    |-- close: string (nullable = true)\n",
      " |    |    |-- open: string (nullable = true)\n",
      " |    |-- Tuesday: struct (nullable = true)\n",
      " |    |    |-- close: string (nullable = true)\n",
      " |    |    |-- open: string (nullable = true)\n",
      " |    |-- Wednesday: struct (nullable = true)\n",
      " |    |    |-- close: string (nullable = true)\n",
      " |    |    |-- open: string (nullable = true)\n",
      " |-- latitude: double (nullable = true)\n",
      " |-- longitude: double (nullable = true)\n",
      " |-- name: string (nullable = true)\n",
      " |-- neighborhoods: array (nullable = true)\n",
      " |    |-- element: string (containsNull = true)\n",
      " |-- open: boolean (nullable = true)\n",
      " |-- review_count: long (nullable = true)\n",
      " |-- stars: double (nullable = true)\n",
      " |-- state: string (nullable = true)\n",
      " |-- type: string (nullable = true)\n",
      "\n"
     ]
    }
   ],
   "source": [
    "df.printSchema()"
   ]
  },
  {
   "cell_type": "markdown",
   "metadata": {},
   "source": [
    "## The analyses below are focused on the businesses in United State."
   ]
  },
  {
   "cell_type": "code",
   "execution_count": 5,
   "metadata": {},
   "outputs": [],
   "source": [
    "us_states_list = [\"SC\",\"AZ\",\"MN\",\"NV\",\"WI\",\"CA\",\"NC\",\"IL\",\"AL\",\"NM\",\"PA\",\"TX\",\"FL\",\"AK\"]"
   ]
  },
  {
   "cell_type": "markdown",
   "metadata": {},
   "source": [
    "### Step 2: Filter \"df\" to include only businesses in the United States."
   ]
  },
  {
   "cell_type": "code",
   "execution_count": 6,
   "metadata": {
    "collapsed": true
   },
   "outputs": [],
   "source": [
    "US = df.filter(df.state.isin(us_states_list))"
   ]
  },
  {
   "cell_type": "markdown",
   "metadata": {},
   "source": [
    "### Step 3: Show the U.S. cities, and their number of businesses in descending order."
   ]
  },
  {
   "cell_type": "code",
   "execution_count": 7,
   "metadata": {},
   "outputs": [
    {
     "name": "stdout",
     "output_type": "stream",
     "text": [
      "+---------------+-----+\n",
      "|           city|count|\n",
      "+---------------+-----+\n",
      "|      Las Vegas|19327|\n",
      "|        Phoenix|11852|\n",
      "|      Charlotte| 5695|\n",
      "|     Scottsdale| 5638|\n",
      "|           Mesa| 3638|\n",
      "|     Pittsburgh| 3628|\n",
      "|      Henderson| 3145|\n",
      "|          Tempe| 3043|\n",
      "|       Chandler| 2702|\n",
      "|        Madison| 2278|\n",
      "|       Glendale| 2048|\n",
      "|        Gilbert| 1941|\n",
      "|         Peoria| 1081|\n",
      "|North Las Vegas|  952|\n",
      "|       Surprise|  681|\n",
      "|       Goodyear|  507|\n",
      "|      Champaign|  505|\n",
      "|       Avondale|  427|\n",
      "|       Matthews|  399|\n",
      "|    Queen Creek|  383|\n",
      "+---------------+-----+\n",
      "only showing top 20 rows\n",
      "\n"
     ]
    }
   ],
   "source": [
    "US_count = US.groupBy(\"city\").count().orderBy(\"count\", ascending=False)\n",
    "US_count.show()"
   ]
  },
  {
   "cell_type": "markdown",
   "metadata": {},
   "source": [
    "### Step 4: Show the frequency distribution of stars in the U.S., ordered by stars from 1.0 to 5.0."
   ]
  },
  {
   "cell_type": "code",
   "execution_count": 24,
   "metadata": {},
   "outputs": [
    {
     "name": "stdout",
     "output_type": "stream",
     "text": [
      "+-----+-----+\n",
      "|stars|count|\n",
      "+-----+-----+\n",
      "|  1.0| 1020|\n",
      "|  1.5| 1744|\n",
      "|  2.0| 3434|\n",
      "|  2.5| 6659|\n",
      "|  3.0| 9555|\n",
      "|  3.5|13915|\n",
      "|  4.0|14225|\n",
      "|  4.5|11258|\n",
      "|  5.0|12164|\n",
      "+-----+-----+\n",
      "\n"
     ]
    }
   ],
   "source": [
    "US_stars_distribution = US.groupBy(\"stars\").count().orderBy(\"stars\")\n",
    "US_stars_distribution.show()"
   ]
  },
  {
   "cell_type": "markdown",
   "metadata": {},
   "source": [
    "### Step 5a: Find the list of U.S. cities that have at least(>=) 50 businesses."
   ]
  },
  {
   "cell_type": "code",
   "execution_count": 11,
   "metadata": {},
   "outputs": [],
   "source": [
    "cities = US_count.filter(US_count[\"count\"]>=50).select(\"city\").collect()\n",
    "cities = [row.city for row in cities]"
   ]
  },
  {
   "cell_type": "markdown",
   "metadata": {},
   "source": [
    "### Step 5b: Filter \"US\" using the list of cities from 6a, to restrict our attention to cities with at least 50 businesses reviewed."
   ]
  },
  {
   "cell_type": "code",
   "execution_count": 12,
   "metadata": {
    "collapsed": true
   },
   "outputs": [],
   "source": [
    "US = US.filter(US.city.isin(cities))"
   ]
  },
  {
   "cell_type": "markdown",
   "metadata": {},
   "source": [
    "### Step 6a: Compute the average stars for each city."
   ]
  },
  {
   "cell_type": "code",
   "execution_count": 13,
   "metadata": {},
   "outputs": [],
   "source": [
    "ratings = US.groupBy(\"city\").agg({\"stars\": \"mean\"})"
   ]
  },
  {
   "cell_type": "markdown",
   "metadata": {},
   "source": [
    "### Step 6b: What are the top 5 cities with the highest average stars?"
   ]
  },
  {
   "cell_type": "code",
   "execution_count": 14,
   "metadata": {},
   "outputs": [
    {
     "name": "stdout",
     "output_type": "stream",
     "text": [
      "+---------------+------------------+\n",
      "|           city|        avg(stars)|\n",
      "+---------------+------------------+\n",
      "|     Scottsdale|3.9065271372827244|\n",
      "|     Cave Creek| 3.892857142857143|\n",
      "|         Verona|3.8582089552238807|\n",
      "| Fountain Hills| 3.857843137254902|\n",
      "|Litchfield Park| 3.816666666666667|\n",
      "+---------------+------------------+\n",
      "only showing top 5 rows\n",
      "\n"
     ]
    }
   ],
   "source": [
    "ratings.orderBy(\"avg(stars)\",ascending=False).show(5)"
   ]
  },
  {
   "cell_type": "markdown",
   "metadata": {},
   "source": [
    "### Step 7a: Define a city's \"weekend friendliness\" as the percentage of businesses open on Saturday and Sunday. Create a DataFrame \"weekend_friendliness\" that gives a \"weekend friendliness\" for each city. "
   ]
  },
  {
   "cell_type": "code",
   "execution_count": 15,
   "metadata": {},
   "outputs": [],
   "source": [
    "#         #open on Saturday/Sunday #count #proportion\n",
    "# city1\n",
    "# city2\n",
    "\n",
    "a = US.filter((US[\"hours.Saturday\"].isNotNull()) & (US[\"hours.Sunday\"].isNotNull())) \\\n",
    "    .groupby(\"city\") \\\n",
    "    .count()\\\n",
    "    .withColumnRenamed(\"count\",\"open_count\") \\\n",
    "\n",
    "b = US.groupby(\"city\") \\\n",
    "    .count() \\\n",
    "    .withColumnRenamed(\"count\",\"total_count\")\n",
    "\n",
    "temp = a.join(b, a.city==b.city).drop(b.city)\n",
    "\n",
    "weekend_friendliness = temp.select(temp[\"city\"],(temp[\"open_count\"]/temp[\"total_count\"]).alias(\"weekend_friendliness\"))"
   ]
  },
  {
   "cell_type": "markdown",
   "metadata": {},
   "source": [
    "### Step 7b: What are the top 5 weekend friendly cities?"
   ]
  },
  {
   "cell_type": "code",
   "execution_count": 16,
   "metadata": {},
   "outputs": [
    {
     "name": "stdout",
     "output_type": "stream",
     "text": [
      "+--------------+--------------------+\n",
      "|          city|weekend_friendliness|\n",
      "+--------------+--------------------+\n",
      "|       Concord|  0.5891891891891892|\n",
      "|San Tan Valley|                0.58|\n",
      "|        Monona|  0.5529411764705883|\n",
      "|     Middleton|   0.536036036036036|\n",
      "|       Madison|  0.5210711150131695|\n",
      "+--------------+--------------------+\n",
      "only showing top 5 rows\n",
      "\n"
     ]
    }
   ],
   "source": [
    "weekend_friendliness.orderBy(\"weekend_friendliness\", ascending=False).show(5)"
   ]
  },
  {
   "cell_type": "markdown",
   "metadata": {},
   "source": [
    "### Step 8a: Define a city's \"nightlife hotness\" as the percentage of businesses whose categories contains “Nightlife”. Create a DataFrame \"nightlife_hotness\" that gives a \"nightlife_hotness\" for each city."
   ]
  },
  {
   "cell_type": "code",
   "execution_count": 17,
   "metadata": {},
   "outputs": [],
   "source": [
    "from pyspark.sql import functions as F\n",
    "from pyspark.sql.functions import array_contains,col\n",
    "\n",
    "nightlife_hotness = US.select(\"city\", F.when(array_contains(df.categories, \"Nightlife\"),1)\\\n",
    "                              .otherwise(0).alias(\"Nightlife_Or_Not\")) \\\n",
    "                              .groupBy(\"city\") \\\n",
    "                              .agg(F.mean(col(\"Nightlife_Or_Not\")).alias(\"nightlife_hotness\"))"
   ]
  },
  {
   "cell_type": "markdown",
   "metadata": {},
   "source": [
    "### Step 8b: What are the top 5 cities best for nightlife?"
   ]
  },
  {
   "cell_type": "code",
   "execution_count": 19,
   "metadata": {},
   "outputs": [
    {
     "name": "stdout",
     "output_type": "stream",
     "text": [
      "+---------------+--------------------+\n",
      "|           city|   nightlife_hotness|\n",
      "+---------------+--------------------+\n",
      "|      Homestead|  0.1326530612244898|\n",
      "|       Carefree| 0.12962962962962962|\n",
      "|         Verona| 0.11940298507462686|\n",
      "|       Carnegie| 0.11290322580645161|\n",
      "|     Pittsburgh| 0.10832414553472988|\n",
      "|      Champaign| 0.10693069306930693|\n",
      "|        Madison| 0.10008779631255488|\n",
      "|         Monona| 0.09411764705882353|\n",
      "|      Fitchburg| 0.08823529411764706|\n",
      "|Paradise Valley| 0.07777777777777778|\n",
      "|    Sun Prairie| 0.07751937984496124|\n",
      "|      Middleton| 0.07657657657657657|\n",
      "|      Charlotte| 0.07269534679543459|\n",
      "|      Las Vegas| 0.06514202928545558|\n",
      "|     Wickenburg|  0.0641025641025641|\n",
      "|     Scottsdale|0.060837176303653775|\n",
      "|    Casa Grande| 0.05970149253731343|\n",
      "|          Tempe|0.056194544857048966|\n",
      "|     Cave Creek| 0.05263157894736842|\n",
      "|Litchfield Park|                0.05|\n",
      "+---------------+--------------------+\n",
      "only showing top 20 rows\n",
      "\n"
     ]
    }
   ],
   "source": [
    "nightlife_hotness.orderBy(\"nightlife_hotness\", ascending=False).show()"
   ]
  },
  {
   "cell_type": "markdown",
   "metadata": {},
   "source": [
    "### Step 9: Join the 3 DataFrames \"ratings\", \"weekend_friendliness\", and \"nightlife_hotness\"."
   ]
  },
  {
   "cell_type": "code",
   "execution_count": 20,
   "metadata": {},
   "outputs": [
    {
     "data": {
      "text/html": [
       "<div>\n",
       "<style>\n",
       "    .dataframe thead tr:only-child th {\n",
       "        text-align: right;\n",
       "    }\n",
       "\n",
       "    .dataframe thead th {\n",
       "        text-align: left;\n",
       "    }\n",
       "\n",
       "    .dataframe tbody tr th {\n",
       "        vertical-align: top;\n",
       "    }\n",
       "</style>\n",
       "<table border=\"1\" class=\"dataframe\">\n",
       "  <thead>\n",
       "    <tr style=\"text-align: right;\">\n",
       "      <th></th>\n",
       "      <th>avg(stars)</th>\n",
       "      <th>weekend_friendliness</th>\n",
       "      <th>city</th>\n",
       "      <th>nightlife_hotness</th>\n",
       "    </tr>\n",
       "  </thead>\n",
       "  <tbody>\n",
       "    <tr>\n",
       "      <th>0</th>\n",
       "      <td>3.701610</td>\n",
       "      <td>0.419980</td>\n",
       "      <td>Tempe</td>\n",
       "      <td>0.056195</td>\n",
       "    </tr>\n",
       "    <tr>\n",
       "      <th>1</th>\n",
       "      <td>3.463235</td>\n",
       "      <td>0.431723</td>\n",
       "      <td>North Las Vegas</td>\n",
       "      <td>0.034664</td>\n",
       "    </tr>\n",
       "    <tr>\n",
       "      <th>2</th>\n",
       "      <td>3.685243</td>\n",
       "      <td>0.384408</td>\n",
       "      <td>Phoenix</td>\n",
       "      <td>0.042103</td>\n",
       "    </tr>\n",
       "    <tr>\n",
       "      <th>3</th>\n",
       "      <td>3.558824</td>\n",
       "      <td>0.514706</td>\n",
       "      <td>Fitchburg</td>\n",
       "      <td>0.088235</td>\n",
       "    </tr>\n",
       "    <tr>\n",
       "      <th>4</th>\n",
       "      <td>3.906527</td>\n",
       "      <td>0.410607</td>\n",
       "      <td>Scottsdale</td>\n",
       "      <td>0.060837</td>\n",
       "    </tr>\n",
       "  </tbody>\n",
       "</table>\n",
       "</div>"
      ],
      "text/plain": [
       "   avg(stars)  weekend_friendliness             city  nightlife_hotness\n",
       "0    3.701610              0.419980            Tempe           0.056195\n",
       "1    3.463235              0.431723  North Las Vegas           0.034664\n",
       "2    3.685243              0.384408          Phoenix           0.042103\n",
       "3    3.558824              0.514706        Fitchburg           0.088235\n",
       "4    3.906527              0.410607       Scottsdale           0.060837"
      ]
     },
     "execution_count": 20,
     "metadata": {},
     "output_type": "execute_result"
    }
   ],
   "source": [
    "cities = ratings.join(weekend_friendliness, ratings.city==weekend_friendliness.city).drop(weekend_friendliness.city) \\\n",
    "    .join(nightlife_hotness, ratings.city==nightlife_hotness.city).drop(nightlife_hotness.city).toPandas()\n",
    "cities.head()"
   ]
  },
  {
   "cell_type": "markdown",
   "metadata": {
    "collapsed": true
   },
   "source": [
    "### Step 10a: Create a pair-wise correlation matrix of \"cities\" using Pandas."
   ]
  },
  {
   "cell_type": "code",
   "execution_count": 21,
   "metadata": {},
   "outputs": [
    {
     "data": {
      "text/html": [
       "<div>\n",
       "<style>\n",
       "    .dataframe thead tr:only-child th {\n",
       "        text-align: right;\n",
       "    }\n",
       "\n",
       "    .dataframe thead th {\n",
       "        text-align: left;\n",
       "    }\n",
       "\n",
       "    .dataframe tbody tr th {\n",
       "        vertical-align: top;\n",
       "    }\n",
       "</style>\n",
       "<table border=\"1\" class=\"dataframe\">\n",
       "  <thead>\n",
       "    <tr style=\"text-align: right;\">\n",
       "      <th></th>\n",
       "      <th>avg(stars)</th>\n",
       "      <th>weekend_friendliness</th>\n",
       "      <th>nightlife_hotness</th>\n",
       "    </tr>\n",
       "  </thead>\n",
       "  <tbody>\n",
       "    <tr>\n",
       "      <th>avg(stars)</th>\n",
       "      <td>1.000000</td>\n",
       "      <td>-0.248651</td>\n",
       "      <td>0.183445</td>\n",
       "    </tr>\n",
       "    <tr>\n",
       "      <th>weekend_friendliness</th>\n",
       "      <td>-0.248651</td>\n",
       "      <td>1.000000</td>\n",
       "      <td>0.235020</td>\n",
       "    </tr>\n",
       "    <tr>\n",
       "      <th>nightlife_hotness</th>\n",
       "      <td>0.183445</td>\n",
       "      <td>0.235020</td>\n",
       "      <td>1.000000</td>\n",
       "    </tr>\n",
       "  </tbody>\n",
       "</table>\n",
       "</div>"
      ],
      "text/plain": [
       "                      avg(stars)  weekend_friendliness  nightlife_hotness\n",
       "avg(stars)              1.000000             -0.248651           0.183445\n",
       "weekend_friendliness   -0.248651              1.000000           0.235020\n",
       "nightlife_hotness       0.183445              0.235020           1.000000"
      ]
     },
     "execution_count": 21,
     "metadata": {},
     "output_type": "execute_result"
    }
   ],
   "source": [
    "cities.corr()"
   ]
  },
  {
   "cell_type": "markdown",
   "metadata": {
    "collapsed": true
   },
   "source": [
    "### Step 10b: Create a pairplot of the three variables in \"cities\"."
   ]
  },
  {
   "cell_type": "code",
   "execution_count": 9,
   "metadata": {
    "collapsed": true
   },
   "outputs": [],
   "source": [
    "import seaborn as sns\n",
    "%matplotlib inline"
   ]
  },
  {
   "cell_type": "code",
   "execution_count": 22,
   "metadata": {},
   "outputs": [
    {
     "data": {
      "text/plain": [
       "<seaborn.axisgrid.PairGrid at 0x1a19ea35c0>"
      ]
     },
     "execution_count": 22,
     "metadata": {},
     "output_type": "execute_result"
    },
    {
     "data": {
      "image/png": "[encoded data removed]",
      "text/plain": [
       "<matplotlib.figure.Figure at 0x1a19ea3358>"
      ]
     },
     "metadata": {},
     "output_type": "display_data"
    }
   ],
   "source": [
    "sns.pairplot(cities)"
   ]
  },
  {
   "cell_type": "markdown",
   "metadata": {
    "collapsed": true
   },
   "source": [
    "### Step 10c: What is your interpretation of the correlations? "
   ]
  },
  {
   "cell_type": "code",
   "execution_count": 23,
   "metadata": {
    "collapsed": true
   },
   "outputs": [],
   "source": [
    "##"
   ]
  },
  {
   "cell_type": "markdown",
   "metadata": {},
   "source": [
    "### Above and Beyond\n",
    "If you would like your work to be considered for \"Above and Beyond\" credit, you **must** replace this text with a detailed explanation\n",
    "and justification of why you think your work merits extra credit.  Note that simple modifications to the required questions will not receive many extra points."
   ]
  },
  {
   "cell_type": "markdown",
   "metadata": {},
   "source": [
    "# END OF HOMEWORK 5"
   ]
  }
 ],
 "metadata": {
  "kernelspec": {
   "display_name": "Python 3",
   "language": "python",
   "name": "python3"
  },
  "language_info": {
   "codemirror_mode": {
    "name": "ipython",
    "version": 3
   },
   "file_extension": ".py",
   "mimetype": "text/x-python",
   "name": "python",
   "nbconvert_exporter": "python",
   "pygments_lexer": "ipython3",
   "version": "3.6.3"
  }
 },
 "nbformat": 4,
 "nbformat_minor": 2
}
